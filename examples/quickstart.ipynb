{
 "cells": [
  {
   "cell_type": "markdown",
   "metadata": {},
   "source": [
    "# MARL EVAL Tools quickstart notebook\n",
    "This notebook provides an easy introduction to the Eval repo by showing an example of how to use different plotting tools"
   ]
  },
  {
   "cell_type": "markdown",
   "metadata": {},
   "source": [
    "### 1. Installing packages\n",
    "We start by installing the necessary packages"
   ]
  },
  {
   "cell_type": "code",
   "execution_count": 2,
   "metadata": {},
   "outputs": [],
   "source": [
    "#@title Install required packages. (Run Cell)\n",
    "#git clone\n",
    "#install requirement (this needs to have the pip install)\n"
   ]
  },
  {
   "cell_type": "markdown",
   "metadata": {},
   "source": [
    "### 2. Import the necessary modules\n",
    "We first import the necessary modules that will be used to processing MARL experiment data and showing the plots"
   ]
  },
  {
   "cell_type": "code",
   "execution_count": 2,
   "metadata": {},
   "outputs": [],
   "source": [
    "#@title Import required packages. (Run Cell)\n",
    "\n",
    "# In case marl_tools not detected\n",
    "import sys\n",
    "sys.path.insert(1, \"../\")\n",
    "\n",
    "\n",
    "import json\n",
    "\n",
    "from marl_tools.plotting_tools.plotting import (\n",
    "    aggregate_scores,\n",
    "    performance_profiles,\n",
    "    probability_of_improvement,\n",
    "    sample_efficiency_curves,\n",
    ")\n",
    "from marl_tools.utils.data_processing_utils import (\n",
    "    create_matrices_for_rliable,\n",
    "    data_process_pipeline,\n",
    ")"
   ]
  },
  {
   "cell_type": "markdown",
   "metadata": {},
   "source": [
    "### 3. Data processing and preparation\n",
    "\n",
    "Second, we import the json file, run the processing pipeline that will help to calculate the normalized values.\n",
    "\n",
    "In case, you don't have data and you want to test the tools, you can run generate_dummy_smac_data to generate some data"
   ]
  },
  {
   "cell_type": "code",
   "execution_count": 5,
   "metadata": {},
   "outputs": [],
   "source": [
    "# Import the data\n",
    "with open(\"./smac_dummy_data.json\", \"r\") as data_file:\n",
    "    raw_data = json.load(data_file)\n",
    "\n",
    "# Choose the list of metrics to normalize\n",
    "METRICS_TO_NORMALIZE = [\"return\"]\n",
    "\n",
    "# Call data_process_pipeline to normalize the choosen metrics and to clean the data\n",
    "processed_data = data_process_pipeline(\n",
    "    raw_data=raw_data, metrics_to_normalize=METRICS_TO_NORMALIZE\n",
    ")\n",
    "\n",
    "# Save the processed data in different json file\n",
    "with open(\"./smac_processed_dummy_data.json\", \"w+\") as f:\n",
    "    json.dump(processed_data, f, indent=4)"
   ]
  },
  {
   "cell_type": "markdown",
   "metadata": {},
   "source": [
    "We need two different matrices to be used to create the plots:\n",
    "  \n",
    "  **a)  metric_dictionary_return:**\n",
    "\n",
    "  - The output will be a dictionary that have as keys the different metrics and as a value a full other dictionary that have the different algorithm with their related metric_matrix.\n",
    "\n",
    "  - The metric_matrix of dimenetion (number of runs x number of tasks), include the normalised absolute results.\n",
    "\n",
    "  **b)  final_metric_tensor_dictionary:**\n",
    "\n",
    "  - The output format will be similar to the first one except the matrix that correspond to the algorithm.\n",
    "\n",
    "  - The matrix of dimention (number of runs x number of tasks x number of logging steps), include the normalised metrics results.\n",
    "\n",
    "create_matrices_for_rliable function have 3 args:\n",
    "\n",
    "  - data_dictionary: Dictionary of processed data\n",
    "  \n",
    "  - environment_name: Name of environment for which arrays should be computed.\n",
    "\n",
    "  - metrics_to_normalize: List of metric names of metrics that should be normalised."
   ]
  },
  {
   "cell_type": "code",
   "execution_count": null,
   "metadata": {},
   "outputs": [],
   "source": [
    "environment_comparison_matrix, sample_effeciency_matrix = create_matrices_for_rliable(\n",
    "    data_dictionary=processed_data,\n",
    "    environment_name=\"SMAC\",\n",
    "    metrics_to_normalize=METRICS_TO_NORMALIZE,\n",
    ")"
   ]
  }
 ],
 "metadata": {
  "kernelspec": {
   "display_name": "Python 3.8.13 ('env')",
   "language": "python",
   "name": "python3"
  },
  "language_info": {
   "codemirror_mode": {
    "name": "ipython",
    "version": 3
   },
   "file_extension": ".py",
   "mimetype": "text/x-python",
   "name": "python",
   "nbconvert_exporter": "python",
   "pygments_lexer": "ipython3",
   "version": "3.8.13"
  },
  "orig_nbformat": 4,
  "vscode": {
   "interpreter": {
    "hash": "4000854348a43847f3a4bb707524c75706c0625461d37cf9d0178805535070bf"
   }
  }
 },
 "nbformat": 4,
 "nbformat_minor": 2
}
